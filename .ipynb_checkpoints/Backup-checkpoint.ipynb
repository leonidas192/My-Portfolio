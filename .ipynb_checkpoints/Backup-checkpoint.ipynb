{
 "cells": [
  {
   "cell_type": "code",
   "execution_count": null,
   "id": "f7ceb1ea",
   "metadata": {},
   "outputs": [],
   "source": [
    "model = load_model('BrailleNet.h5')\n",
    "acc = model.evaluate(val_generator)[1]\n",
    "print('Accuracy: %.2f' % (acc*100))"
   ]
  },
  {
   "cell_type": "code",
   "execution_count": null,
   "id": "58c3609f",
   "metadata": {},
   "outputs": [],
   "source": [
    "from tensorflow.keras.preprocessing import image\n",
    "img=image.load_img('D:/My Document/data kevin/Project Skripsi/Braille Dataset/Braille Dataset/d1.JPG3rot.jpg')"
   ]
  },
  {
   "cell_type": "code",
   "execution_count": null,
   "id": "602d6b39",
   "metadata": {},
   "outputs": [],
   "source": [
    "plt.imshow(img)"
   ]
  },
  {
   "cell_type": "code",
   "execution_count": null,
   "id": "a390a613",
   "metadata": {},
   "outputs": [],
   "source": [
    "x=image.img_to_array(img)\n",
    "x"
   ]
  },
  {
   "cell_type": "code",
   "execution_count": null,
   "id": "51f693cd",
   "metadata": {},
   "outputs": [],
   "source": [
    "x.shape"
   ]
  },
  {
   "cell_type": "code",
   "execution_count": null,
   "id": "bd865724",
   "metadata": {},
   "outputs": [],
   "source": [
    "x=np.expand_dims(x,axis=0)\n",
    "model.predict(x)"
   ]
  },
  {
   "cell_type": "code",
   "execution_count": null,
   "id": "865f7027",
   "metadata": {},
   "outputs": [],
   "source": [
    "target_names = ['a', 'b', 'c','d','e','f','g','h','i','j','k','l','m','n','o','p','q','r','s','t','u','v','w','x','y','z']\n",
    "character=(target_names[np.argmax(model.predict(x))])\n",
    "character"
   ]
  },
  {
   "cell_type": "code",
   "execution_count": null,
   "id": "b71f26d5",
   "metadata": {},
   "outputs": [],
   "source": [
    "from keras.models import load_model\n",
    "from tensorflow.keras.preprocessing import image\n",
    "import matplotlib.pyplot as plt\n",
    "model1 = load_model('BrailleNet.h5')\n",
    "img=image.load_img('D:/My Document/data kevin/Project Skripsi/Braille Dataset/Braille Dataset/d1.JPG3rot.jpg')\n",
    "arr=image.img_to_array(img)\n",
    "plt.imshow(img)"
   ]
  },
  {
   "cell_type": "code",
   "execution_count": null,
   "id": "339998e4",
   "metadata": {},
   "outputs": [],
   "source": [
    "arr"
   ]
  },
  {
   "cell_type": "code",
   "execution_count": null,
   "id": "d903d23a",
   "metadata": {},
   "outputs": [],
   "source": [
    "arr.shape"
   ]
  },
  {
   "cell_type": "code",
   "execution_count": null,
   "id": "6660a522",
   "metadata": {},
   "outputs": [],
   "source": [
    "arr=np.expand_dims(arr,axis=0)\n",
    "model1.predict(arr)"
   ]
  },
  {
   "cell_type": "code",
   "execution_count": null,
   "id": "01ddbb61",
   "metadata": {},
   "outputs": [],
   "source": [
    "target_names = ['a', 'b', 'c','d','e','f','g','h','i','j','k','l','m','n','o','p','q','r','s','t','u','v','w','x','y','z']\n",
    "character1=(target_names[np.argmax(model.predict(arr))])\n",
    "character1"
   ]
  },
  {
   "cell_type": "code",
   "execution_count": null,
   "id": "4cf393cc",
   "metadata": {},
   "outputs": [],
   "source": [
    "!pip install gradio"
   ]
  },
  {
   "cell_type": "code",
   "execution_count": null,
   "id": "fe039fbd",
   "metadata": {},
   "outputs": [],
   "source": [
    "import gradio as gr"
   ]
  },
  {
   "cell_type": "code",
   "execution_count": null,
   "id": "c6679c91",
   "metadata": {},
   "outputs": [],
   "source": [
    "target_names = ['a', 'b', 'c','d','e','f','g','h','i','j','k','l','m','n','o','p','q','r','s','t','u','v','w','x','y','z']\n",
    "def predict_image(img):\n",
    "    input=img.reshape(-1,28,28,3)\n",
    "    prediction=model1.predict(input)[0]\n",
    "    return {target_names[i]: float(prediction[i]) for i in range(26)}"
   ]
  },
  {
   "cell_type": "code",
   "execution_count": null,
   "id": "b5a9353a",
   "metadata": {},
   "outputs": [],
   "source": [
    "image = gr.inputs.Image(shape=(28,28))\n",
    "label = gr.outputs.Label(num_top_classes=26)\n",
    "\n",
    "gr.Interface(fn=predict_image, inputs=image, outputs=label,interpretation='default').launch(debug='True')"
   ]
  },
  {
   "cell_type": "code",
   "execution_count": null,
   "id": "5ef5de4f",
   "metadata": {},
   "outputs": [],
   "source": [
    "entry = L.Input(shape=(28,28,3))\n",
    "x = L.SeparableConv2D(128,(3,3),activation='relu')(entry)\n",
    "x = L.MaxPooling2D((2,2))(x)\n",
    "x = L.BatchNormalization()(x)\n",
    "\n",
    "x = L.SeparableConv2D(256,(3,3),activation='relu')(x)\n",
    "x = L.MaxPooling2D((2,2))(x)\n",
    "x = L.BatchNormalization()(x)\n",
    "\n",
    "x = L.SeparableConv2D(512,(2,2),activation='relu')(x)\n",
    "x = L.MaxPooling2D((2,2))(x)\n",
    "x = L.BatchNormalization()(x)\n",
    "\n",
    "x = L.GlobalMaxPooling2D()(x)\n",
    "x = L.Dropout(0.2)(x)\n",
    "x = L.Dense(256)(x)\n",
    "x = L.ReLU()(x)\n",
    "x = L.Dense(128,kernel_regularizer=l2(1e-5))(x)\n",
    "x = L.ReLU()(x)\n",
    "x = L.Dense(26,activation='softmax')(x)\n"
   ]
  }
 ],
 "metadata": {
  "kernelspec": {
   "display_name": "Python 3 (ipykernel)",
   "language": "python",
   "name": "python3"
  },
  "language_info": {
   "codemirror_mode": {
    "name": "ipython",
    "version": 3
   },
   "file_extension": ".py",
   "mimetype": "text/x-python",
   "name": "python",
   "nbconvert_exporter": "python",
   "pygments_lexer": "ipython3",
   "version": "3.8.0"
  }
 },
 "nbformat": 4,
 "nbformat_minor": 5
}
