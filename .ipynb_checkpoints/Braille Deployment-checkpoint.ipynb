{
 "cells": [
  {
   "cell_type": "code",
   "execution_count": 1,
   "id": "a92fb519",
   "metadata": {},
   "outputs": [],
   "source": [
    "import numpy as np\n",
    "import pandas as pd\n",
    "import matplotlib.pyplot as plt\n",
    "#import seaborn as sns\n",
    "import tensorflow as tf\n",
    "from tensorflow import keras\n",
    "from pathlib import Path\n",
    "from sklearn.preprocessing import LabelEncoder\n",
    "import PIL\n",
    "import cv2\n",
    "import os"
   ]
  },
  {
   "cell_type": "code",
   "execution_count": null,
   "id": "91c9dfd6",
   "metadata": {},
   "outputs": [],
   "source": [
    "from shutil import copyfile\n",
    "os.mkdir('./images/')\n",
    "alpha = 'a'\n",
    "for i in range(0, 26): \n",
    "    os.mkdir('./images/' + alpha)\n",
    "    alpha = chr(ord(alpha) + 1)\n",
    "    \n",
    "base_dir = 'D:/My Document/data kevin/Project Skripsi/Braille Dataset/Braille Dataset/'\n",
    "\n",
    "for file in os.listdir(base_dir):\n",
    "    letter = file[0]\n",
    "    copyfile(base_dir+file, './images/' + letter + '/' + file)"
   ]
  },
  {
   "cell_type": "code",
   "execution_count": 2,
   "id": "5db99421",
   "metadata": {},
   "outputs": [],
   "source": [
    "from tensorflow.keras.preprocessing.image import ImageDataGenerator\n",
    "train_datagen = ImageDataGenerator(rotation_range=20,\n",
    "    shear_range=10,\n",
    "    validation_split=0.2)"
   ]
  },
  {
   "cell_type": "code",
   "execution_count": 3,
   "id": "54d7718b",
   "metadata": {},
   "outputs": [
    {
     "name": "stdout",
     "output_type": "stream",
     "text": [
      "Found 1248 images belonging to 26 classes.\n",
      "Found 312 images belonging to 26 classes.\n"
     ]
    }
   ],
   "source": [
    "train_generator = train_datagen.flow_from_directory(\n",
    "    './images/',\n",
    "    target_size=(28, 28),\n",
    "    batch_size = 32,\n",
    "    class_mode='categorical',\n",
    "    subset='training') # set as training data\n",
    "\n",
    "val_generator = train_datagen.flow_from_directory(\n",
    "    './images/', # same directory as training data\n",
    "    target_size=(28, 28),\n",
    "    class_mode='categorical',\n",
    "    batch_size = 32,\n",
    "    subset='validation')"
   ]
  },
  {
   "cell_type": "code",
   "execution_count": 4,
   "id": "4aae0aa2",
   "metadata": {
    "scrolled": true
   },
   "outputs": [
    {
     "name": "stdout",
     "output_type": "stream",
     "text": [
      "Epoch 1/100\n",
      "39/39 [==============================] - 9s 191ms/step - loss: 3.1663 - accuracy: 0.1098 - val_loss: 3.2564 - val_accuracy: 0.0451 - lr: 0.0010\n",
      "Epoch 2/100\n",
      "39/39 [==============================] - 4s 101ms/step - loss: 2.4808 - accuracy: 0.2692 - val_loss: 3.2474 - val_accuracy: 0.0417 - lr: 0.0010\n",
      "Epoch 3/100\n",
      "39/39 [==============================] - 4s 112ms/step - loss: 1.7779 - accuracy: 0.4671 - val_loss: 3.2414 - val_accuracy: 0.0417 - lr: 0.0010\n",
      "Epoch 4/100\n",
      "39/39 [==============================] - 5s 122ms/step - loss: 1.3531 - accuracy: 0.5809 - val_loss: 3.2680 - val_accuracy: 0.0417 - lr: 0.0010\n",
      "Epoch 5/100\n",
      "39/39 [==============================] - 4s 105ms/step - loss: 1.1135 - accuracy: 0.6731 - val_loss: 3.3229 - val_accuracy: 0.0347 - lr: 0.0010\n",
      "Epoch 6/100\n",
      "39/39 [==============================] - 4s 104ms/step - loss: 0.8026 - accuracy: 0.7508 - val_loss: 3.3489 - val_accuracy: 0.0417 - lr: 0.0010\n",
      "Epoch 7/100\n",
      "39/39 [==============================] - 4s 107ms/step - loss: 0.7048 - accuracy: 0.7748 - val_loss: 3.4908 - val_accuracy: 0.0382 - lr: 0.0010\n",
      "Epoch 8/100\n",
      "39/39 [==============================] - 5s 116ms/step - loss: 0.5930 - accuracy: 0.8053 - val_loss: 3.3375 - val_accuracy: 0.0486 - lr: 0.0010\n",
      "Epoch 9/100\n",
      "39/39 [==============================] - 4s 111ms/step - loss: 0.5129 - accuracy: 0.8261 - val_loss: 3.0403 - val_accuracy: 0.1146 - lr: 0.0010\n",
      "Epoch 10/100\n",
      "39/39 [==============================] - 4s 97ms/step - loss: 0.5072 - accuracy: 0.8373 - val_loss: 2.4480 - val_accuracy: 0.2569 - lr: 0.0010\n",
      "Epoch 11/100\n",
      "39/39 [==============================] - 4s 102ms/step - loss: 0.4418 - accuracy: 0.8478 - val_loss: 1.9550 - val_accuracy: 0.4792 - lr: 0.0010\n",
      "Epoch 12/100\n",
      "39/39 [==============================] - 4s 106ms/step - loss: 0.3934 - accuracy: 0.8694 - val_loss: 1.4567 - val_accuracy: 0.5868 - lr: 0.0010\n",
      "Epoch 13/100\n",
      "39/39 [==============================] - 4s 103ms/step - loss: 0.3217 - accuracy: 0.8934 - val_loss: 0.9987 - val_accuracy: 0.7014 - lr: 0.0010\n",
      "Epoch 14/100\n",
      "39/39 [==============================] - 4s 105ms/step - loss: 0.3392 - accuracy: 0.8942 - val_loss: 0.6623 - val_accuracy: 0.7917 - lr: 0.0010\n",
      "Epoch 15/100\n",
      "39/39 [==============================] - 4s 111ms/step - loss: 0.3353 - accuracy: 0.8830 - val_loss: 0.4516 - val_accuracy: 0.8854 - lr: 0.0010\n",
      "Epoch 16/100\n",
      "39/39 [==============================] - 4s 106ms/step - loss: 0.2986 - accuracy: 0.9135 - val_loss: 0.4526 - val_accuracy: 0.8368 - lr: 0.0010\n",
      "Epoch 17/100\n",
      "39/39 [==============================] - 5s 125ms/step - loss: 0.2736 - accuracy: 0.9127 - val_loss: 0.3642 - val_accuracy: 0.8889 - lr: 0.0010\n",
      "Epoch 18/100\n",
      "39/39 [==============================] - 4s 101ms/step - loss: 0.2750 - accuracy: 0.9038 - val_loss: 0.4382 - val_accuracy: 0.8507 - lr: 0.0010\n",
      "Epoch 19/100\n",
      "39/39 [==============================] - 4s 92ms/step - loss: 0.2287 - accuracy: 0.9207 - val_loss: 0.3322 - val_accuracy: 0.9028 - lr: 0.0010\n",
      "Epoch 20/100\n",
      "39/39 [==============================] - 4s 96ms/step - loss: 0.2385 - accuracy: 0.9199 - val_loss: 0.2928 - val_accuracy: 0.9132 - lr: 0.0010\n",
      "Epoch 21/100\n",
      "39/39 [==============================] - 4s 89ms/step - loss: 0.2436 - accuracy: 0.9127 - val_loss: 0.3045 - val_accuracy: 0.8958 - lr: 0.0010\n",
      "Epoch 22/100\n",
      "39/39 [==============================] - 4s 97ms/step - loss: 0.1759 - accuracy: 0.9431 - val_loss: 0.2209 - val_accuracy: 0.9271 - lr: 0.0010\n",
      "Epoch 23/100\n",
      "39/39 [==============================] - 4s 101ms/step - loss: 0.1559 - accuracy: 0.9447 - val_loss: 0.2696 - val_accuracy: 0.9340 - lr: 0.0010\n",
      "Epoch 24/100\n",
      "39/39 [==============================] - 4s 111ms/step - loss: 0.1996 - accuracy: 0.9399 - val_loss: 0.2690 - val_accuracy: 0.9271 - lr: 0.0010\n",
      "Epoch 25/100\n",
      "39/39 [==============================] - 5s 117ms/step - loss: 0.2137 - accuracy: 0.9239 - val_loss: 0.3310 - val_accuracy: 0.9167 - lr: 0.0010\n",
      "Epoch 26/100\n",
      "39/39 [==============================] - 4s 103ms/step - loss: 0.1989 - accuracy: 0.9343 - val_loss: 0.2750 - val_accuracy: 0.9132 - lr: 0.0010\n",
      "Epoch 27/100\n",
      "39/39 [==============================] - 4s 105ms/step - loss: 0.1715 - accuracy: 0.9311 - val_loss: 0.2272 - val_accuracy: 0.9236 - lr: 0.0010\n",
      "Epoch 28/100\n",
      "39/39 [==============================] - 4s 99ms/step - loss: 0.1854 - accuracy: 0.9415 - val_loss: 0.3349 - val_accuracy: 0.9062 - lr: 0.0010\n",
      "Epoch 29/100\n",
      "39/39 [==============================] - 4s 99ms/step - loss: 0.1621 - accuracy: 0.9431 - val_loss: 0.2986 - val_accuracy: 0.9236 - lr: 0.0010\n",
      "Epoch 30/100\n",
      "39/39 [==============================] - 4s 101ms/step - loss: 0.1641 - accuracy: 0.9455 - val_loss: 0.4036 - val_accuracy: 0.8819 - lr: 0.0010\n",
      "Epoch 31/100\n",
      "39/39 [==============================] - 4s 108ms/step - loss: 0.1430 - accuracy: 0.9527 - val_loss: 0.2153 - val_accuracy: 0.9444 - lr: 1.0000e-04\n",
      "Epoch 32/100\n",
      "39/39 [==============================] - 4s 102ms/step - loss: 0.0708 - accuracy: 0.9776 - val_loss: 0.1439 - val_accuracy: 0.9549 - lr: 1.0000e-04\n",
      "Epoch 33/100\n",
      "39/39 [==============================] - 5s 122ms/step - loss: 0.0871 - accuracy: 0.9728 - val_loss: 0.1655 - val_accuracy: 0.9583 - lr: 1.0000e-04\n",
      "Epoch 34/100\n",
      "39/39 [==============================] - 4s 93ms/step - loss: 0.0545 - accuracy: 0.9880 - val_loss: 0.1233 - val_accuracy: 0.9653 - lr: 1.0000e-04\n",
      "Epoch 35/100\n",
      "39/39 [==============================] - 5s 115ms/step - loss: 0.0569 - accuracy: 0.9832 - val_loss: 0.1493 - val_accuracy: 0.9653 - lr: 1.0000e-04\n",
      "Epoch 36/100\n",
      "39/39 [==============================] - 5s 117ms/step - loss: 0.0660 - accuracy: 0.9808 - val_loss: 0.1084 - val_accuracy: 0.9653 - lr: 1.0000e-04\n",
      "Epoch 37/100\n",
      "39/39 [==============================] - 5s 115ms/step - loss: 0.0686 - accuracy: 0.9800 - val_loss: 0.0915 - val_accuracy: 0.9653 - lr: 1.0000e-04\n",
      "Epoch 38/100\n",
      "39/39 [==============================] - 4s 97ms/step - loss: 0.0525 - accuracy: 0.9840 - val_loss: 0.1134 - val_accuracy: 0.9688 - lr: 1.0000e-04\n",
      "Epoch 39/100\n",
      "39/39 [==============================] - 4s 90ms/step - loss: 0.0555 - accuracy: 0.9848 - val_loss: 0.1111 - val_accuracy: 0.9757 - lr: 1.0000e-04\n",
      "Epoch 40/100\n",
      "39/39 [==============================] - 3s 86ms/step - loss: 0.0374 - accuracy: 0.9896 - val_loss: 0.1237 - val_accuracy: 0.9549 - lr: 1.0000e-04\n",
      "Epoch 41/100\n",
      "39/39 [==============================] - 4s 89ms/step - loss: 0.0485 - accuracy: 0.9872 - val_loss: 0.1105 - val_accuracy: 0.9618 - lr: 1.0000e-04\n",
      "Epoch 42/100\n",
      "39/39 [==============================] - 4s 91ms/step - loss: 0.0438 - accuracy: 0.9880 - val_loss: 0.1339 - val_accuracy: 0.9583 - lr: 1.0000e-04\n",
      "Epoch 43/100\n",
      "39/39 [==============================] - 4s 91ms/step - loss: 0.0508 - accuracy: 0.9848 - val_loss: 0.0843 - val_accuracy: 0.9722 - lr: 1.0000e-04\n",
      "Epoch 44/100\n",
      "39/39 [==============================] - 3s 88ms/step - loss: 0.0556 - accuracy: 0.9824 - val_loss: 0.1411 - val_accuracy: 0.9688 - lr: 1.0000e-04\n",
      "Epoch 45/100\n",
      "39/39 [==============================] - 4s 90ms/step - loss: 0.0491 - accuracy: 0.9856 - val_loss: 0.0938 - val_accuracy: 0.9722 - lr: 1.0000e-04\n",
      "Epoch 46/100\n",
      "39/39 [==============================] - 3s 88ms/step - loss: 0.0390 - accuracy: 0.9896 - val_loss: 0.1438 - val_accuracy: 0.9722 - lr: 1.0000e-04\n",
      "Epoch 47/100\n",
      "39/39 [==============================] - 3s 88ms/step - loss: 0.0461 - accuracy: 0.9824 - val_loss: 0.1361 - val_accuracy: 0.9688 - lr: 1.0000e-04\n",
      "Epoch 48/100\n",
      "39/39 [==============================] - 3s 86ms/step - loss: 0.0457 - accuracy: 0.9880 - val_loss: 0.1218 - val_accuracy: 0.9653 - lr: 1.0000e-04\n",
      "Epoch 49/100\n",
      "39/39 [==============================] - 3s 89ms/step - loss: 0.0522 - accuracy: 0.9864 - val_loss: 0.1292 - val_accuracy: 0.9688 - lr: 1.0000e-04\n",
      "Epoch 50/100\n",
      "39/39 [==============================] - 3s 88ms/step - loss: 0.0416 - accuracy: 0.9880 - val_loss: 0.1352 - val_accuracy: 0.9583 - lr: 1.0000e-04\n",
      "Epoch 51/100\n",
      "39/39 [==============================] - 3s 87ms/step - loss: 0.0517 - accuracy: 0.9840 - val_loss: 0.1011 - val_accuracy: 0.9618 - lr: 1.0000e-04\n",
      "Epoch 52/100\n",
      "39/39 [==============================] - 4s 90ms/step - loss: 0.0387 - accuracy: 0.9864 - val_loss: 0.1402 - val_accuracy: 0.9514 - lr: 1.0000e-05\n"
     ]
    },
    {
     "name": "stdout",
     "output_type": "stream",
     "text": [
      "Epoch 53/100\n",
      "39/39 [==============================] - 4s 89ms/step - loss: 0.0338 - accuracy: 0.9920 - val_loss: 0.1233 - val_accuracy: 0.9653 - lr: 1.0000e-05\n",
      "Epoch 54/100\n",
      "39/39 [==============================] - 4s 92ms/step - loss: 0.0343 - accuracy: 0.9920 - val_loss: 0.1036 - val_accuracy: 0.9688 - lr: 1.0000e-05\n",
      "Epoch 55/100\n",
      "39/39 [==============================] - 3s 88ms/step - loss: 0.0334 - accuracy: 0.9936 - val_loss: 0.1170 - val_accuracy: 0.9688 - lr: 1.0000e-05\n",
      "Epoch 56/100\n",
      "39/39 [==============================] - 4s 89ms/step - loss: 0.0377 - accuracy: 0.9912 - val_loss: 0.1051 - val_accuracy: 0.9653 - lr: 1.0000e-05\n",
      "Epoch 57/100\n",
      "39/39 [==============================] - 3s 88ms/step - loss: 0.0417 - accuracy: 0.9904 - val_loss: 0.1220 - val_accuracy: 0.9757 - lr: 1.0000e-05\n",
      "Epoch 58/100\n",
      "39/39 [==============================] - 3s 87ms/step - loss: 0.0410 - accuracy: 0.9872 - val_loss: 0.1319 - val_accuracy: 0.9722 - lr: 1.0000e-05\n",
      "Epoch 59/100\n",
      "39/39 [==============================] - 4s 91ms/step - loss: 0.0435 - accuracy: 0.9904 - val_loss: 0.0847 - val_accuracy: 0.9688 - lr: 1.0000e-05\n",
      "Epoch 60/100\n",
      "39/39 [==============================] - 4s 93ms/step - loss: 0.0445 - accuracy: 0.9872 - val_loss: 0.1317 - val_accuracy: 0.9722 - lr: 1.0000e-06\n",
      "Epoch 61/100\n",
      "39/39 [==============================] - 4s 91ms/step - loss: 0.0307 - accuracy: 0.9952 - val_loss: 0.0924 - val_accuracy: 0.9722 - lr: 1.0000e-06\n",
      "Epoch 62/100\n",
      "39/39 [==============================] - 4s 89ms/step - loss: 0.0337 - accuracy: 0.9912 - val_loss: 0.1162 - val_accuracy: 0.9688 - lr: 1.0000e-06\n",
      "Epoch 63/100\n",
      "39/39 [==============================] - ETA: 0s - loss: 0.0323 - accuracy: 0.9944Validation accuracy is reach 98% cancel training\n",
      "39/39 [==============================] - 4s 96ms/step - loss: 0.0323 - accuracy: 0.9944 - val_loss: 0.0634 - val_accuracy: 0.9826 - lr: 1.0000e-06\n"
     ]
    }
   ],
   "source": [
    "from keras import backend as K\n",
    "from keras import layers as L\n",
    "from keras.models import Model,load_model\n",
    "from keras.regularizers import l2\n",
    "from keras.callbacks import ModelCheckpoint,ReduceLROnPlateau,EarlyStopping\n",
    "from tensorflow.keras.optimizers import Adam,SGD\n",
    "from keras import regularizers\n",
    "from keras.constraints import max_norm\n",
    "\n",
    "K.clear_session()\n",
    "batch_size = 32\n",
    "num_of_train_samples = 1248\n",
    "num_of_test_samples = 312\n",
    "\n",
    "model_ckpt = ModelCheckpoint('BrailleNet.h5',save_best_only=True)\n",
    "reduce_lr = ReduceLROnPlateau(patience=8,verbose=0)\n",
    "early_stop = EarlyStopping(patience=15,verbose=1)\n",
    "\n",
    "class myCallback(tf.keras.callbacks.Callback):\n",
    "    def on_epoch_end(self, epoch, logs={}):\n",
    "        if(logs.get('val_accuracy') > 0.98):\n",
    "            print(\"Validation accuracy is reach 98% cancel training\")\n",
    "            self.model.stop_training = True\n",
    "\n",
    "entry = L.Input(shape=(28,28,3))\n",
    "x = L.SeparableConv2D(128,(3,3),activation='relu')(entry)\n",
    "x = L.MaxPooling2D((2,2))(x)\n",
    "x = L.BatchNormalization()(x)\n",
    "\n",
    "x = L.SeparableConv2D(256,(3,3),activation='relu')(x)\n",
    "x = L.MaxPooling2D((2,2))(x)\n",
    "x = L.BatchNormalization()(x)\n",
    "\n",
    "x = L.SeparableConv2D(512,(2,2),activation='relu')(x)\n",
    "x = L.MaxPooling2D((2,2))(x)\n",
    "x = L.BatchNormalization()(x)\n",
    "\n",
    "x = L.GlobalMaxPooling2D()(x)\n",
    "\n",
    "x = L.Dropout(0.2)(x)\n",
    "x = L.Dense(256)(x)\n",
    "x = L.ReLU()(x)\n",
    "x = L.Dense(128,kernel_regularizer=l2(1e-5))(x)\n",
    "x = L.ReLU()(x)\n",
    "x = L.Dense(26,activation='softmax')(x)\n",
    "\n",
    "callbacks = myCallback()\n",
    "model = Model(entry,x)\n",
    "#opt=Adam(0.001)\n",
    "#opt1 = SGD(learning_rate = 0.001)\n",
    "model.compile(optimizer=\"Adam\",loss='categorical_crossentropy',metrics=['accuracy'])\n",
    "\n",
    "history = model.fit(train_generator,\n",
    "                              validation_data=val_generator,\n",
    "                              epochs=100,\n",
    "                              steps_per_epoch=num_of_train_samples // batch_size,\n",
    "                              callbacks=[model_ckpt,reduce_lr,callbacks],\n",
    "                              validation_steps=num_of_test_samples // batch_size,\n",
    "                              verbose=1)"
   ]
  },
  {
   "cell_type": "code",
   "execution_count": 5,
   "id": "959398d9",
   "metadata": {
    "scrolled": true
   },
   "outputs": [
    {
     "name": "stdout",
     "output_type": "stream",
     "text": [
      "Model: \"model\"\n",
      "_________________________________________________________________\n",
      " Layer (type)                Output Shape              Param #   \n",
      "=================================================================\n",
      " input_1 (InputLayer)        [(None, 28, 28, 3)]       0         \n",
      "                                                                 \n",
      " separable_conv2d (Separable  (None, 26, 26, 128)      539       \n",
      " Conv2D)                                                         \n",
      "                                                                 \n",
      " max_pooling2d (MaxPooling2D  (None, 13, 13, 128)      0         \n",
      " )                                                               \n",
      "                                                                 \n",
      " batch_normalization (BatchN  (None, 13, 13, 128)      512       \n",
      " ormalization)                                                   \n",
      "                                                                 \n",
      " separable_conv2d_1 (Separab  (None, 11, 11, 256)      34176     \n",
      " leConv2D)                                                       \n",
      "                                                                 \n",
      " max_pooling2d_1 (MaxPooling  (None, 5, 5, 256)        0         \n",
      " 2D)                                                             \n",
      "                                                                 \n",
      " batch_normalization_1 (Batc  (None, 5, 5, 256)        1024      \n",
      " hNormalization)                                                 \n",
      "                                                                 \n",
      " separable_conv2d_2 (Separab  (None, 4, 4, 512)        132608    \n",
      " leConv2D)                                                       \n",
      "                                                                 \n",
      " max_pooling2d_2 (MaxPooling  (None, 2, 2, 512)        0         \n",
      " 2D)                                                             \n",
      "                                                                 \n",
      " batch_normalization_2 (Batc  (None, 2, 2, 512)        2048      \n",
      " hNormalization)                                                 \n",
      "                                                                 \n",
      " global_max_pooling2d (Globa  (None, 512)              0         \n",
      " lMaxPooling2D)                                                  \n",
      "                                                                 \n",
      " dropout (Dropout)           (None, 512)               0         \n",
      "                                                                 \n",
      " dense (Dense)               (None, 256)               131328    \n",
      "                                                                 \n",
      " re_lu (ReLU)                (None, 256)               0         \n",
      "                                                                 \n",
      " dense_1 (Dense)             (None, 128)               32896     \n",
      "                                                                 \n",
      " re_lu_1 (ReLU)              (None, 128)               0         \n",
      "                                                                 \n",
      " dense_2 (Dense)             (None, 26)                3354      \n",
      "                                                                 \n",
      "=================================================================\n",
      "Total params: 338,485\n",
      "Trainable params: 336,693\n",
      "Non-trainable params: 1,792\n",
      "_________________________________________________________________\n"
     ]
    }
   ],
   "source": [
    "model.summary()"
   ]
  },
  {
   "cell_type": "code",
   "execution_count": 6,
   "id": "d8494489",
   "metadata": {},
   "outputs": [
    {
     "data": {
      "image/png": "[encoded data removed]",
      "text/plain": [
       "<Figure size 432x288 with 1 Axes>"
      ]
     },
     "metadata": {
      "needs_background": "light"
     },
     "output_type": "display_data"
    },
    {
     "data": {
      "image/png": "[encoded data removed]",
      "text/plain": [
       "<Figure size 432x288 with 1 Axes>"
      ]
     },
     "metadata": {
      "needs_background": "light"
     },
     "output_type": "display_data"
    }
   ],
   "source": [
    "# Plot the chart for accuracy and loss on both training and validation\n",
    "%matplotlib inline\n",
    "import matplotlib.pyplot as plt\n",
    "acc = history.history['accuracy']\n",
    "val_acc = history.history['val_accuracy']\n",
    "loss = history.history['loss']\n",
    "val_loss = history.history['val_loss']\n",
    "\n",
    "epochs = range(len(acc))\n",
    "\n",
    "plt.plot(epochs, acc, 'r', label='Training accuracy')\n",
    "plt.plot(epochs, val_acc, 'b', label='Validation accuracy')\n",
    "plt.title('Training and validation accuracy')\n",
    "plt.legend()\n",
    "plt.figure()\n",
    "\n",
    "plt.plot(epochs, loss, 'r', label='Training Loss')\n",
    "plt.plot(epochs, val_loss, 'b', label='Validation Loss')\n",
    "plt.title('Training and validation loss')\n",
    "plt.legend()\n",
    "\n",
    "plt.show()"
   ]
  },
  {
   "cell_type": "code",
   "execution_count": 7,
   "id": "4e330b2b",
   "metadata": {},
   "outputs": [
    {
     "name": "stdout",
     "output_type": "stream",
     "text": [
      "10/10 [==============================] - 1s 61ms/step - loss: 0.0996 - accuracy: 0.9776\n",
      "Accuracy: 97.76\n"
     ]
    }
   ],
   "source": [
    "model = load_model('BrailleNet.h5')\n",
    "acc = model.evaluate(val_generator)[1]\n",
    "print('Accuracy: %.2f' % (acc*100))"
   ]
  },
  {
   "cell_type": "code",
   "execution_count": 23,
   "id": "982f1a91",
   "metadata": {},
   "outputs": [
    {
     "name": "stdout",
     "output_type": "stream",
     "text": [
      "[[2.1950846e-11 2.6839830e-09 7.7844534e-06 ... 1.1446601e-06\n",
      "  9.1793666e-09 9.7692900e-05]\n",
      " [3.4704503e-11 3.1248875e-09 6.6546693e-09 ... 3.0787006e-09\n",
      "  8.9799164e-15 1.0158638e-03]\n",
      " [6.7412151e-13 4.3536854e-09 1.8777376e-15 ... 1.2928195e-09\n",
      "  2.0137834e-09 1.3470036e-10]\n",
      " ...\n",
      " [1.2880243e-05 2.5598644e-07 2.4136675e-06 ... 9.9186522e-01\n",
      "  6.8052125e-04 4.5218845e-04]\n",
      " [2.0751709e-07 7.0560118e-06 5.3819109e-09 ... 1.1727204e-06\n",
      "  2.1951733e-10 6.1983002e-07]\n",
      " [3.5400519e-16 1.4937280e-14 2.7408785e-08 ... 3.1646467e-11\n",
      "  3.3201513e-09 1.1945288e-07]]\n"
     ]
    }
   ],
   "source": [
    "from sklearn.metrics import classification_report, confusion_matrix\n",
    "y_pred = model.predict(train_generator)\n",
    "print(y_pred)"
   ]
  },
  {
   "cell_type": "code",
   "execution_count": 17,
   "id": "6d46f589",
   "metadata": {},
   "outputs": [
    {
     "name": "stderr",
     "output_type": "stream",
     "text": [
      "C:\\Users\\KEVINM~1\\AppData\\Local\\Temp/ipykernel_13204/4224170371.py:4: UserWarning: `Model.predict_generator` is deprecated and will be removed in a future version. Please use `Model.predict`, which supports generators.\n",
      "  Y_pred = model.predict_generator(val_generator, num_of_test_samples// batch_size+1)\n"
     ]
    },
    {
     "name": "stdout",
     "output_type": "stream",
     "text": [
      "Confusion Matrix\n"
     ]
    },
    {
     "ename": "TypeError",
     "evalue": "Singleton array 1599 cannot be considered a valid collection.",
     "output_type": "error",
     "traceback": [
      "\u001b[1;31m---------------------------------------------------------------------------\u001b[0m",
      "\u001b[1;31mTypeError\u001b[0m                                 Traceback (most recent call last)",
      "\u001b[1;32mC:\\Users\\KEVINM~1\\AppData\\Local\\Temp/ipykernel_13204/4224170371.py\u001b[0m in \u001b[0;36m<module>\u001b[1;34m\u001b[0m\n\u001b[0;32m      5\u001b[0m \u001b[0my_pred\u001b[0m \u001b[1;33m=\u001b[0m \u001b[0mnp\u001b[0m\u001b[1;33m.\u001b[0m\u001b[0margmax\u001b[0m\u001b[1;33m(\u001b[0m\u001b[0mY_pred\u001b[0m\u001b[1;33m)\u001b[0m\u001b[1;33m\u001b[0m\u001b[1;33m\u001b[0m\u001b[0m\n\u001b[0;32m      6\u001b[0m \u001b[0mprint\u001b[0m\u001b[1;33m(\u001b[0m\u001b[1;34m'Confusion Matrix'\u001b[0m\u001b[1;33m)\u001b[0m\u001b[1;33m\u001b[0m\u001b[1;33m\u001b[0m\u001b[0m\n\u001b[1;32m----> 7\u001b[1;33m \u001b[0mprint\u001b[0m\u001b[1;33m(\u001b[0m\u001b[0mconfusion_matrix\u001b[0m\u001b[1;33m(\u001b[0m\u001b[0mval_generator\u001b[0m\u001b[1;33m.\u001b[0m\u001b[0mclasses\u001b[0m\u001b[1;33m,\u001b[0m \u001b[0my_pred\u001b[0m\u001b[1;33m)\u001b[0m\u001b[1;33m)\u001b[0m\u001b[1;33m\u001b[0m\u001b[1;33m\u001b[0m\u001b[0m\n\u001b[0m\u001b[0;32m      8\u001b[0m \u001b[0mprint\u001b[0m\u001b[1;33m(\u001b[0m\u001b[1;34m'Classification Report'\u001b[0m\u001b[1;33m)\u001b[0m\u001b[1;33m\u001b[0m\u001b[1;33m\u001b[0m\u001b[0m\n\u001b[0;32m      9\u001b[0m \u001b[0mtarget_names\u001b[0m \u001b[1;33m=\u001b[0m \u001b[1;33m[\u001b[0m\u001b[1;34m'a'\u001b[0m\u001b[1;33m,\u001b[0m \u001b[1;34m'b'\u001b[0m\u001b[1;33m,\u001b[0m \u001b[1;34m'c'\u001b[0m\u001b[1;33m,\u001b[0m\u001b[1;34m'd'\u001b[0m\u001b[1;33m,\u001b[0m\u001b[1;34m'e'\u001b[0m\u001b[1;33m,\u001b[0m\u001b[1;34m'f'\u001b[0m\u001b[1;33m,\u001b[0m\u001b[1;34m'g'\u001b[0m\u001b[1;33m,\u001b[0m\u001b[1;34m'h'\u001b[0m\u001b[1;33m,\u001b[0m\u001b[1;34m'i'\u001b[0m\u001b[1;33m,\u001b[0m\u001b[1;34m'j'\u001b[0m\u001b[1;33m,\u001b[0m\u001b[1;34m'k'\u001b[0m\u001b[1;33m,\u001b[0m\u001b[1;34m'l'\u001b[0m\u001b[1;33m,\u001b[0m\u001b[1;34m'm'\u001b[0m\u001b[1;33m,\u001b[0m\u001b[1;34m'n'\u001b[0m\u001b[1;33m,\u001b[0m\u001b[1;34m'o'\u001b[0m\u001b[1;33m,\u001b[0m\u001b[1;34m'p'\u001b[0m\u001b[1;33m,\u001b[0m\u001b[1;34m'q'\u001b[0m\u001b[1;33m,\u001b[0m\u001b[1;34m'r'\u001b[0m\u001b[1;33m,\u001b[0m\u001b[1;34m's'\u001b[0m\u001b[1;33m,\u001b[0m\u001b[1;34m't'\u001b[0m\u001b[1;33m,\u001b[0m\u001b[1;34m'u'\u001b[0m\u001b[1;33m,\u001b[0m\u001b[1;34m'v'\u001b[0m\u001b[1;33m,\u001b[0m\u001b[1;34m'w'\u001b[0m\u001b[1;33m,\u001b[0m\u001b[1;34m'x'\u001b[0m\u001b[1;33m,\u001b[0m\u001b[1;34m'y'\u001b[0m\u001b[1;33m,\u001b[0m\u001b[1;34m'z'\u001b[0m\u001b[1;33m]\u001b[0m\u001b[1;33m\u001b[0m\u001b[1;33m\u001b[0m\u001b[0m\n",
      "\u001b[1;32mc:\\users\\kevin maulana\\appdata\\local\\programs\\python\\python38\\lib\\site-packages\\sklearn\\metrics\\_classification.py\u001b[0m in \u001b[0;36mconfusion_matrix\u001b[1;34m(y_true, y_pred, labels, sample_weight, normalize)\u001b[0m\n\u001b[0;32m    300\u001b[0m \u001b[1;33m\u001b[0m\u001b[0m\n\u001b[0;32m    301\u001b[0m     \"\"\"\n\u001b[1;32m--> 302\u001b[1;33m     \u001b[0my_type\u001b[0m\u001b[1;33m,\u001b[0m \u001b[0my_true\u001b[0m\u001b[1;33m,\u001b[0m \u001b[0my_pred\u001b[0m \u001b[1;33m=\u001b[0m \u001b[0m_check_targets\u001b[0m\u001b[1;33m(\u001b[0m\u001b[0my_true\u001b[0m\u001b[1;33m,\u001b[0m \u001b[0my_pred\u001b[0m\u001b[1;33m)\u001b[0m\u001b[1;33m\u001b[0m\u001b[1;33m\u001b[0m\u001b[0m\n\u001b[0m\u001b[0;32m    303\u001b[0m     \u001b[1;32mif\u001b[0m \u001b[0my_type\u001b[0m \u001b[1;32mnot\u001b[0m \u001b[1;32min\u001b[0m \u001b[1;33m(\u001b[0m\u001b[1;34m\"binary\"\u001b[0m\u001b[1;33m,\u001b[0m \u001b[1;34m\"multiclass\"\u001b[0m\u001b[1;33m)\u001b[0m\u001b[1;33m:\u001b[0m\u001b[1;33m\u001b[0m\u001b[1;33m\u001b[0m\u001b[0m\n\u001b[0;32m    304\u001b[0m         \u001b[1;32mraise\u001b[0m \u001b[0mValueError\u001b[0m\u001b[1;33m(\u001b[0m\u001b[1;34m\"%s is not supported\"\u001b[0m \u001b[1;33m%\u001b[0m \u001b[0my_type\u001b[0m\u001b[1;33m)\u001b[0m\u001b[1;33m\u001b[0m\u001b[1;33m\u001b[0m\u001b[0m\n",
      "\u001b[1;32mc:\\users\\kevin maulana\\appdata\\local\\programs\\python\\python38\\lib\\site-packages\\sklearn\\metrics\\_classification.py\u001b[0m in \u001b[0;36m_check_targets\u001b[1;34m(y_true, y_pred)\u001b[0m\n\u001b[0;32m     82\u001b[0m     \u001b[0my_pred\u001b[0m \u001b[1;33m:\u001b[0m \u001b[0marray\u001b[0m \u001b[1;32mor\u001b[0m \u001b[0mindicator\u001b[0m \u001b[0mmatrix\u001b[0m\u001b[1;33m\u001b[0m\u001b[1;33m\u001b[0m\u001b[0m\n\u001b[0;32m     83\u001b[0m     \"\"\"\n\u001b[1;32m---> 84\u001b[1;33m     \u001b[0mcheck_consistent_length\u001b[0m\u001b[1;33m(\u001b[0m\u001b[0my_true\u001b[0m\u001b[1;33m,\u001b[0m \u001b[0my_pred\u001b[0m\u001b[1;33m)\u001b[0m\u001b[1;33m\u001b[0m\u001b[1;33m\u001b[0m\u001b[0m\n\u001b[0m\u001b[0;32m     85\u001b[0m     \u001b[0mtype_true\u001b[0m \u001b[1;33m=\u001b[0m \u001b[0mtype_of_target\u001b[0m\u001b[1;33m(\u001b[0m\u001b[0my_true\u001b[0m\u001b[1;33m)\u001b[0m\u001b[1;33m\u001b[0m\u001b[1;33m\u001b[0m\u001b[0m\n\u001b[0;32m     86\u001b[0m     \u001b[0mtype_pred\u001b[0m \u001b[1;33m=\u001b[0m \u001b[0mtype_of_target\u001b[0m\u001b[1;33m(\u001b[0m\u001b[0my_pred\u001b[0m\u001b[1;33m)\u001b[0m\u001b[1;33m\u001b[0m\u001b[1;33m\u001b[0m\u001b[0m\n",
      "\u001b[1;32mc:\\users\\kevin maulana\\appdata\\local\\programs\\python\\python38\\lib\\site-packages\\sklearn\\utils\\validation.py\u001b[0m in \u001b[0;36mcheck_consistent_length\u001b[1;34m(*arrays)\u001b[0m\n\u001b[0;32m    326\u001b[0m     \"\"\"\n\u001b[0;32m    327\u001b[0m \u001b[1;33m\u001b[0m\u001b[0m\n\u001b[1;32m--> 328\u001b[1;33m     \u001b[0mlengths\u001b[0m \u001b[1;33m=\u001b[0m \u001b[1;33m[\u001b[0m\u001b[0m_num_samples\u001b[0m\u001b[1;33m(\u001b[0m\u001b[0mX\u001b[0m\u001b[1;33m)\u001b[0m \u001b[1;32mfor\u001b[0m \u001b[0mX\u001b[0m \u001b[1;32min\u001b[0m \u001b[0marrays\u001b[0m \u001b[1;32mif\u001b[0m \u001b[0mX\u001b[0m \u001b[1;32mis\u001b[0m \u001b[1;32mnot\u001b[0m \u001b[1;32mNone\u001b[0m\u001b[1;33m]\u001b[0m\u001b[1;33m\u001b[0m\u001b[1;33m\u001b[0m\u001b[0m\n\u001b[0m\u001b[0;32m    329\u001b[0m     \u001b[0muniques\u001b[0m \u001b[1;33m=\u001b[0m \u001b[0mnp\u001b[0m\u001b[1;33m.\u001b[0m\u001b[0munique\u001b[0m\u001b[1;33m(\u001b[0m\u001b[0mlengths\u001b[0m\u001b[1;33m)\u001b[0m\u001b[1;33m\u001b[0m\u001b[1;33m\u001b[0m\u001b[0m\n\u001b[0;32m    330\u001b[0m     \u001b[1;32mif\u001b[0m \u001b[0mlen\u001b[0m\u001b[1;33m(\u001b[0m\u001b[0muniques\u001b[0m\u001b[1;33m)\u001b[0m \u001b[1;33m>\u001b[0m \u001b[1;36m1\u001b[0m\u001b[1;33m:\u001b[0m\u001b[1;33m\u001b[0m\u001b[1;33m\u001b[0m\u001b[0m\n",
      "\u001b[1;32mc:\\users\\kevin maulana\\appdata\\local\\programs\\python\\python38\\lib\\site-packages\\sklearn\\utils\\validation.py\u001b[0m in \u001b[0;36m<listcomp>\u001b[1;34m(.0)\u001b[0m\n\u001b[0;32m    326\u001b[0m     \"\"\"\n\u001b[0;32m    327\u001b[0m \u001b[1;33m\u001b[0m\u001b[0m\n\u001b[1;32m--> 328\u001b[1;33m     \u001b[0mlengths\u001b[0m \u001b[1;33m=\u001b[0m \u001b[1;33m[\u001b[0m\u001b[0m_num_samples\u001b[0m\u001b[1;33m(\u001b[0m\u001b[0mX\u001b[0m\u001b[1;33m)\u001b[0m \u001b[1;32mfor\u001b[0m \u001b[0mX\u001b[0m \u001b[1;32min\u001b[0m \u001b[0marrays\u001b[0m \u001b[1;32mif\u001b[0m \u001b[0mX\u001b[0m \u001b[1;32mis\u001b[0m \u001b[1;32mnot\u001b[0m \u001b[1;32mNone\u001b[0m\u001b[1;33m]\u001b[0m\u001b[1;33m\u001b[0m\u001b[1;33m\u001b[0m\u001b[0m\n\u001b[0m\u001b[0;32m    329\u001b[0m     \u001b[0muniques\u001b[0m \u001b[1;33m=\u001b[0m \u001b[0mnp\u001b[0m\u001b[1;33m.\u001b[0m\u001b[0munique\u001b[0m\u001b[1;33m(\u001b[0m\u001b[0mlengths\u001b[0m\u001b[1;33m)\u001b[0m\u001b[1;33m\u001b[0m\u001b[1;33m\u001b[0m\u001b[0m\n\u001b[0;32m    330\u001b[0m     \u001b[1;32mif\u001b[0m \u001b[0mlen\u001b[0m\u001b[1;33m(\u001b[0m\u001b[0muniques\u001b[0m\u001b[1;33m)\u001b[0m \u001b[1;33m>\u001b[0m \u001b[1;36m1\u001b[0m\u001b[1;33m:\u001b[0m\u001b[1;33m\u001b[0m\u001b[1;33m\u001b[0m\u001b[0m\n",
      "\u001b[1;32mc:\\users\\kevin maulana\\appdata\\local\\programs\\python\\python38\\lib\\site-packages\\sklearn\\utils\\validation.py\u001b[0m in \u001b[0;36m_num_samples\u001b[1;34m(x)\u001b[0m\n\u001b[0;32m    266\u001b[0m     \u001b[1;32mif\u001b[0m \u001b[0mhasattr\u001b[0m\u001b[1;33m(\u001b[0m\u001b[0mx\u001b[0m\u001b[1;33m,\u001b[0m \u001b[1;34m\"shape\"\u001b[0m\u001b[1;33m)\u001b[0m \u001b[1;32mand\u001b[0m \u001b[0mx\u001b[0m\u001b[1;33m.\u001b[0m\u001b[0mshape\u001b[0m \u001b[1;32mis\u001b[0m \u001b[1;32mnot\u001b[0m \u001b[1;32mNone\u001b[0m\u001b[1;33m:\u001b[0m\u001b[1;33m\u001b[0m\u001b[1;33m\u001b[0m\u001b[0m\n\u001b[0;32m    267\u001b[0m         \u001b[1;32mif\u001b[0m \u001b[0mlen\u001b[0m\u001b[1;33m(\u001b[0m\u001b[0mx\u001b[0m\u001b[1;33m.\u001b[0m\u001b[0mshape\u001b[0m\u001b[1;33m)\u001b[0m \u001b[1;33m==\u001b[0m \u001b[1;36m0\u001b[0m\u001b[1;33m:\u001b[0m\u001b[1;33m\u001b[0m\u001b[1;33m\u001b[0m\u001b[0m\n\u001b[1;32m--> 268\u001b[1;33m             raise TypeError(\n\u001b[0m\u001b[0;32m    269\u001b[0m                 \u001b[1;34m\"Singleton array %r cannot be considered a valid collection.\"\u001b[0m \u001b[1;33m%\u001b[0m \u001b[0mx\u001b[0m\u001b[1;33m\u001b[0m\u001b[1;33m\u001b[0m\u001b[0m\n\u001b[0;32m    270\u001b[0m             )\n",
      "\u001b[1;31mTypeError\u001b[0m: Singleton array 1599 cannot be considered a valid collection."
     ]
    }
   ],
   "source": [
    "from sklearn.metrics import classification_report, confusion_matrix\n",
    "batch_size = 32\n",
    "num_of_test_samples = 312\n",
    "Y_pred = model.predict_generator(val_generator, num_of_test_samples// batch_size+1)\n",
    "y_pred = np.argmax(Y_pred)\n",
    "print('Confusion Matrix')\n",
    "print(confusion_matrix(val_generator.classes, y_pred))\n",
    "print('Classification Report')\n",
    "target_names = ['a', 'b', 'c','d','e','f','g','h','i','j','k','l','m','n','o','p','q','r','s','t','u','v','w','x','y','z']\n",
    "print(classification_report(val_generator.classes, y_pred, target_names=target_names))"
   ]
  },
  {
   "cell_type": "code",
   "execution_count": null,
   "id": "8f10cc8e",
   "metadata": {},
   "outputs": [],
   "source": []
  },
  {
   "cell_type": "code",
   "execution_count": 38,
   "id": "b1ce125b",
   "metadata": {},
   "outputs": [],
   "source": [
    "from tensorflow.keras.preprocessing import image\n",
    "img=image.load_img('D:/My Document/data kevin/Project Skripsi/Braille Dataset/Braille Dataset/d1.JPG3rot.jpg')"
   ]
  },
  {
   "cell_type": "code",
   "execution_count": 39,
   "id": "f67f7cf5",
   "metadata": {},
   "outputs": [
    {
     "data": {
      "text/plain": [
       "<matplotlib.image.AxesImage at 0x18788a6d280>"
      ]
     },
     "execution_count": 39,
     "metadata": {},
     "output_type": "execute_result"
    },
    {
     "data": {
      "image/png": "[encoded data removed]",
      "text/plain": [
       "<Figure size 432x288 with 1 Axes>"
      ]
     },
     "metadata": {
      "needs_background": "light"
     },
     "output_type": "display_data"
    }
   ],
   "source": [
    "plt.imshow(img)"
   ]
  },
  {
   "cell_type": "code",
   "execution_count": 48,
   "id": "8f899cf7",
   "metadata": {},
   "outputs": [
    {
     "data": {
      "text/plain": [
       "array([[[251., 251., 251.],\n",
       "        [255., 255., 255.],\n",
       "        [255., 255., 255.],\n",
       "        ...,\n",
       "        [255., 255., 255.],\n",
       "        [255., 255., 255.],\n",
       "        [255., 255., 255.]],\n",
       "\n",
       "       [[247., 247., 247.],\n",
       "        [252., 252., 252.],\n",
       "        [255., 255., 255.],\n",
       "        ...,\n",
       "        [255., 255., 255.],\n",
       "        [255., 255., 255.],\n",
       "        [255., 255., 255.]],\n",
       "\n",
       "       [[243., 243., 243.],\n",
       "        [248., 248., 248.],\n",
       "        [253., 253., 253.],\n",
       "        ...,\n",
       "        [255., 255., 255.],\n",
       "        [255., 255., 255.],\n",
       "        [255., 255., 255.]],\n",
       "\n",
       "       ...,\n",
       "\n",
       "       [[253., 253., 253.],\n",
       "        [254., 254., 254.],\n",
       "        [254., 254., 254.],\n",
       "        ...,\n",
       "        [255., 255., 255.],\n",
       "        [255., 255., 255.],\n",
       "        [255., 255., 255.]],\n",
       "\n",
       "       [[253., 253., 253.],\n",
       "        [254., 254., 254.],\n",
       "        [254., 254., 254.],\n",
       "        ...,\n",
       "        [255., 255., 255.],\n",
       "        [255., 255., 255.],\n",
       "        [255., 255., 255.]],\n",
       "\n",
       "       [[254., 254., 254.],\n",
       "        [254., 254., 254.],\n",
       "        [255., 255., 255.],\n",
       "        ...,\n",
       "        [255., 255., 255.],\n",
       "        [255., 255., 255.],\n",
       "        [255., 255., 255.]]], dtype=float32)"
      ]
     },
     "execution_count": 48,
     "metadata": {},
     "output_type": "execute_result"
    }
   ],
   "source": [
    "x=image.img_to_array(img)\n",
    "x"
   ]
  },
  {
   "cell_type": "code",
   "execution_count": 49,
   "id": "80ecb7ea",
   "metadata": {},
   "outputs": [
    {
     "data": {
      "text/plain": [
       "(28, 28, 3)"
      ]
     },
     "execution_count": 49,
     "metadata": {},
     "output_type": "execute_result"
    }
   ],
   "source": [
    "x.shape"
   ]
  },
  {
   "cell_type": "code",
   "execution_count": 50,
   "id": "eefabfcf",
   "metadata": {},
   "outputs": [
    {
     "data": {
      "text/plain": [
       "array([[1.34435907e-09, 1.02116537e-09, 8.88801921e-08, 9.99838471e-01,\n",
       "        3.08103876e-09, 8.98382609e-07, 5.55212011e-07, 6.52503659e-05,\n",
       "        2.49256127e-09, 9.22045219e-05, 2.96708595e-11, 2.43001582e-12,\n",
       "        2.62705829e-15, 2.35828884e-06, 4.92356572e-11, 5.90792137e-10,\n",
       "        1.02029993e-07, 9.96325955e-09, 2.38391251e-10, 3.40599632e-10,\n",
       "        1.17520955e-07, 6.04552270e-13, 5.28970314e-12, 9.70821427e-12,\n",
       "        5.33669246e-13, 4.62950955e-10]], dtype=float32)"
      ]
     },
     "execution_count": 50,
     "metadata": {},
     "output_type": "execute_result"
    }
   ],
   "source": [
    "x=np.expand_dims(x,axis=0)\n",
    "model.predict(x)"
   ]
  },
  {
   "cell_type": "code",
   "execution_count": 36,
   "id": "831f884a",
   "metadata": {},
   "outputs": [
    {
     "data": {
      "text/plain": [
       "'d'"
      ]
     },
     "execution_count": 36,
     "metadata": {},
     "output_type": "execute_result"
    }
   ],
   "source": [
    "target_names = ['a', 'b', 'c','d','e','f','g','h','i','j','k','l','m','n','o','p','q','r','s','t','u','v','w','x','y','z']\n",
    "character=(target_names[np.argmax(model.predict(x))])\n",
    "character"
   ]
  },
  {
   "cell_type": "markdown",
   "id": "74cd84cb",
   "metadata": {},
   "source": [
    "# Prediction using trained keras model (.h5)"
   ]
  },
  {
   "cell_type": "code",
   "execution_count": 11,
   "id": "d983d213",
   "metadata": {},
   "outputs": [
    {
     "data": {
      "text/plain": [
       "<matplotlib.image.AxesImage at 0x1efb8357b50>"
      ]
     },
     "execution_count": 11,
     "metadata": {},
     "output_type": "execute_result"
    },
    {
     "data": {
      "image/png": "[encoded data removed]",
      "text/plain": [
       "<Figure size 432x288 with 1 Axes>"
      ]
     },
     "metadata": {
      "needs_background": "light"
     },
     "output_type": "display_data"
    }
   ],
   "source": [
    "from keras.models import load_model\n",
    "from tensorflow.keras.preprocessing import image\n",
    "model1 = load_model('BrailleNet.h5')\n",
    "img=image.load_img('D:/My Document/data kevin/Project Skripsi/Braille Dataset/Braille Dataset/d1.JPG3rot.jpg')\n",
    "arr=image.img_to_array(img)\n",
    "plt.imshow(img)"
   ]
  },
  {
   "cell_type": "code",
   "execution_count": 12,
   "id": "b3a5ab84",
   "metadata": {},
   "outputs": [
    {
     "data": {
      "text/plain": [
       "array([[[251., 251., 251.],\n",
       "        [255., 255., 255.],\n",
       "        [255., 255., 255.],\n",
       "        ...,\n",
       "        [255., 255., 255.],\n",
       "        [255., 255., 255.],\n",
       "        [255., 255., 255.]],\n",
       "\n",
       "       [[247., 247., 247.],\n",
       "        [252., 252., 252.],\n",
       "        [255., 255., 255.],\n",
       "        ...,\n",
       "        [255., 255., 255.],\n",
       "        [255., 255., 255.],\n",
       "        [255., 255., 255.]],\n",
       "\n",
       "       [[243., 243., 243.],\n",
       "        [248., 248., 248.],\n",
       "        [253., 253., 253.],\n",
       "        ...,\n",
       "        [255., 255., 255.],\n",
       "        [255., 255., 255.],\n",
       "        [255., 255., 255.]],\n",
       "\n",
       "       ...,\n",
       "\n",
       "       [[253., 253., 253.],\n",
       "        [254., 254., 254.],\n",
       "        [254., 254., 254.],\n",
       "        ...,\n",
       "        [255., 255., 255.],\n",
       "        [255., 255., 255.],\n",
       "        [255., 255., 255.]],\n",
       "\n",
       "       [[253., 253., 253.],\n",
       "        [254., 254., 254.],\n",
       "        [254., 254., 254.],\n",
       "        ...,\n",
       "        [255., 255., 255.],\n",
       "        [255., 255., 255.],\n",
       "        [255., 255., 255.]],\n",
       "\n",
       "       [[254., 254., 254.],\n",
       "        [254., 254., 254.],\n",
       "        [255., 255., 255.],\n",
       "        ...,\n",
       "        [255., 255., 255.],\n",
       "        [255., 255., 255.],\n",
       "        [255., 255., 255.]]], dtype=float32)"
      ]
     },
     "execution_count": 12,
     "metadata": {},
     "output_type": "execute_result"
    }
   ],
   "source": [
    "arr"
   ]
  },
  {
   "cell_type": "code",
   "execution_count": 13,
   "id": "80badc7f",
   "metadata": {},
   "outputs": [
    {
     "data": {
      "text/plain": [
       "(28, 28, 3)"
      ]
     },
     "execution_count": 13,
     "metadata": {},
     "output_type": "execute_result"
    }
   ],
   "source": [
    "arr.shape"
   ]
  },
  {
   "cell_type": "code",
   "execution_count": 14,
   "id": "5c589dc5",
   "metadata": {},
   "outputs": [
    {
     "data": {
      "text/plain": [
       "array([[3.2418757e-12, 5.2127713e-10, 6.9728410e-09, 9.9994397e-01,\n",
       "        1.3380953e-12, 3.2460371e-10, 4.4918626e-05, 1.1611442e-07,\n",
       "        4.5991036e-14, 4.2346922e-08, 2.4352775e-13, 3.1893224e-11,\n",
       "        1.6238030e-19, 1.0408958e-05, 8.1996652e-14, 4.6598697e-11,\n",
       "        4.8397260e-07, 2.9895662e-11, 1.6977122e-10, 2.6189584e-09,\n",
       "        1.4142137e-12, 2.2057117e-13, 4.0172466e-13, 2.0681436e-15,\n",
       "        1.9455772e-12, 8.2876345e-11]], dtype=float32)"
      ]
     },
     "execution_count": 14,
     "metadata": {},
     "output_type": "execute_result"
    }
   ],
   "source": [
    "arr=np.expand_dims(arr,axis=0)\n",
    "model1.predict(arr)"
   ]
  },
  {
   "cell_type": "code",
   "execution_count": 15,
   "id": "13826577",
   "metadata": {},
   "outputs": [
    {
     "data": {
      "text/plain": [
       "'d'"
      ]
     },
     "execution_count": 15,
     "metadata": {},
     "output_type": "execute_result"
    }
   ],
   "source": [
    "target_names = ['a', 'b', 'c','d','e','f','g','h','i','j','k','l','m','n','o','p','q','r','s','t','u','v','w','x','y','z']\n",
    "character1=(target_names[np.argmax(model.predict(arr))])\n",
    "character1"
   ]
  },
  {
   "cell_type": "code",
   "execution_count": 55,
   "id": "3b477521",
   "metadata": {},
   "outputs": [
    {
     "name": "stdout",
     "output_type": "stream",
     "text": [
      "Collecting gradio\n",
      "  Downloading gradio-2.7.0-py3-none-any.whl (865 kB)\n",
      "Collecting pycryptodome\n",
      "  Downloading pycryptodome-3.12.0-cp35-abi3-win_amd64.whl (1.8 MB)\n",
      "Collecting analytics-python\n",
      "  Downloading analytics_python-1.4.0-py2.py3-none-any.whl (15 kB)\n",
      "Collecting flask-cachebuster\n",
      "  Downloading Flask-CacheBuster-1.0.0.tar.gz (3.1 kB)\n",
      "  Preparing metadata (setup.py): started\n",
      "  Preparing metadata (setup.py): finished with status 'done'\n",
      "Requirement already satisfied: Flask>=1.1.1 in c:\\users\\kevin maulana\\appdata\\local\\programs\\python\\python38\\lib\\site-packages (from gradio) (2.0.2)\n",
      "Collecting Flask-Cors>=3.0.8\n",
      "  Downloading Flask_Cors-3.0.10-py2.py3-none-any.whl (14 kB)\n",
      "Collecting ffmpy\n",
      "  Downloading ffmpy-0.3.0.tar.gz (4.8 kB)\n",
      "  Preparing metadata (setup.py): started\n",
      "  Preparing metadata (setup.py): finished with status 'done'\n",
      "Requirement already satisfied: pandas in c:\\users\\kevin maulana\\appdata\\local\\programs\\python\\python38\\lib\\site-packages (from gradio) (1.3.4)\n",
      "Collecting Flask-Login\n",
      "  Downloading Flask_Login-0.5.0-py2.py3-none-any.whl (16 kB)\n",
      "Requirement already satisfied: numpy in c:\\users\\kevin maulana\\appdata\\local\\programs\\python\\python38\\lib\\site-packages (from gradio) (1.19.5)\n",
      "Requirement already satisfied: matplotlib in c:\\users\\kevin maulana\\appdata\\local\\programs\\python\\python38\\lib\\site-packages (from gradio) (3.4.3)\n",
      "Collecting paramiko\n",
      "  Downloading paramiko-2.9.1-py2.py3-none-any.whl (210 kB)\n",
      "Collecting pydub\n",
      "  Downloading pydub-0.25.1-py2.py3-none-any.whl (32 kB)\n",
      "Requirement already satisfied: pillow in c:\\users\\kevin maulana\\appdata\\local\\programs\\python\\python38\\lib\\site-packages (from gradio) (8.4.0)\n",
      "Collecting markdown2\n",
      "  Downloading markdown2-2.4.2-py2.py3-none-any.whl (34 kB)\n",
      "Requirement already satisfied: requests in c:\\users\\kevin maulana\\appdata\\local\\programs\\python\\python38\\lib\\site-packages (from gradio) (2.26.0)\n",
      "Requirement already satisfied: click>=7.1.2 in c:\\users\\kevin maulana\\appdata\\local\\programs\\python\\python38\\lib\\site-packages (from Flask>=1.1.1->gradio) (7.1.2)\n",
      "Requirement already satisfied: Werkzeug>=2.0 in c:\\users\\kevin maulana\\appdata\\local\\programs\\python\\python38\\lib\\site-packages (from Flask>=1.1.1->gradio) (2.0.2)\n",
      "Requirement already satisfied: Jinja2>=3.0 in c:\\users\\kevin maulana\\appdata\\local\\programs\\python\\python38\\lib\\site-packages (from Flask>=1.1.1->gradio) (3.0.2)\n",
      "Requirement already satisfied: itsdangerous>=2.0 in c:\\users\\kevin maulana\\appdata\\local\\programs\\python\\python38\\lib\\site-packages (from Flask>=1.1.1->gradio) (2.0.1)\n",
      "Requirement already satisfied: Six in c:\\users\\kevin maulana\\appdata\\local\\programs\\python\\python38\\lib\\site-packages (from Flask-Cors>=3.0.8->gradio) (1.16.0)\n",
      "Collecting monotonic>=1.5\n",
      "  Downloading monotonic-1.6-py2.py3-none-any.whl (8.2 kB)\n",
      "Requirement already satisfied: python-dateutil>2.1 in c:\\users\\kevin maulana\\appdata\\local\\programs\\python\\python38\\lib\\site-packages (from analytics-python->gradio) (2.8.2)\n",
      "Collecting backoff==1.10.0\n",
      "  Downloading backoff-1.10.0-py2.py3-none-any.whl (31 kB)\n",
      "Requirement already satisfied: charset-normalizer~=2.0.0 in c:\\users\\kevin maulana\\appdata\\local\\programs\\python\\python38\\lib\\site-packages (from requests->gradio) (2.0.7)\n",
      "Requirement already satisfied: certifi>=2017.4.17 in c:\\users\\kevin maulana\\appdata\\local\\programs\\python\\python38\\lib\\site-packages (from requests->gradio) (2021.10.8)\n",
      "Requirement already satisfied: urllib3<1.27,>=1.21.1 in c:\\users\\kevin maulana\\appdata\\local\\programs\\python\\python38\\lib\\site-packages (from requests->gradio) (1.26.7)\n",
      "Requirement already satisfied: idna<4,>=2.5 in c:\\users\\kevin maulana\\appdata\\local\\programs\\python\\python38\\lib\\site-packages (from requests->gradio) (3.3)\n",
      "Requirement already satisfied: cycler>=0.10 in c:\\users\\kevin maulana\\appdata\\local\\programs\\python\\python38\\lib\\site-packages (from matplotlib->gradio) (0.11.0)\n",
      "Requirement already satisfied: kiwisolver>=1.0.1 in c:\\users\\kevin maulana\\appdata\\local\\programs\\python\\python38\\lib\\site-packages (from matplotlib->gradio) (1.3.2)\n",
      "Requirement already satisfied: pyparsing>=2.2.1 in c:\\users\\kevin maulana\\appdata\\local\\programs\\python\\python38\\lib\\site-packages (from matplotlib->gradio) (2.4.7)\n",
      "Requirement already satisfied: pytz>=2017.3 in c:\\users\\kevin maulana\\appdata\\local\\programs\\python\\python38\\lib\\site-packages (from pandas->gradio) (2021.3)\n",
      "Collecting pynacl>=1.0.1\n",
      "  Downloading PyNaCl-1.4.0-cp38-cp38-win_amd64.whl (206 kB)\n",
      "Collecting bcrypt>=3.1.3\n",
      "  Downloading bcrypt-3.2.0-cp36-abi3-win_amd64.whl (28 kB)\n",
      "Collecting cryptography>=2.5\n",
      "  Downloading cryptography-36.0.1-cp36-abi3-win_amd64.whl (2.2 MB)\n",
      "Requirement already satisfied: cffi>=1.1 in c:\\users\\kevin maulana\\appdata\\local\\programs\\python\\python38\\lib\\site-packages (from bcrypt>=3.1.3->paramiko->gradio) (1.15.0)\n",
      "Requirement already satisfied: MarkupSafe>=2.0 in c:\\users\\kevin maulana\\appdata\\local\\programs\\python\\python38\\lib\\site-packages (from Jinja2>=3.0->Flask>=1.1.1->gradio) (2.0.1)\n",
      "Requirement already satisfied: pycparser in c:\\users\\kevin maulana\\appdata\\local\\programs\\python\\python38\\lib\\site-packages (from cffi>=1.1->bcrypt>=3.1.3->paramiko->gradio) (2.20)\n",
      "Building wheels for collected packages: ffmpy, flask-cachebuster\n",
      "  Building wheel for ffmpy (setup.py): started\n",
      "  Building wheel for ffmpy (setup.py): finished with status 'done'\n",
      "  Created wheel for ffmpy: filename=ffmpy-0.3.0-py3-none-any.whl size=4710 sha256=a2773f9e3d234a2d08ba4253be1ef193ef5b68704966bc13b1379de31e0c60f6\n",
      "  Stored in directory: c:\\users\\kevin maulana\\appdata\\local\\pip\\cache\\wheels\\ff\\5b\\59\\913b443e7369dc04b61f607a746b6f7d83fb65e2e19fcc958d\n",
      "  Building wheel for flask-cachebuster (setup.py): started\n",
      "  Building wheel for flask-cachebuster (setup.py): finished with status 'done'\n",
      "  Created wheel for flask-cachebuster: filename=Flask_CacheBuster-1.0.0-py3-none-any.whl size=3371 sha256=0fc8e5ee5740e468942aae7335a9b6c5580d97c97ab042318f75b1f086259868\n",
      "  Stored in directory: c:\\users\\kevin maulana\\appdata\\local\\pip\\cache\\wheels\\27\\1b\\de\\34a3e06893944387266e2e7e93d33243589f01ac1b451e367b\n",
      "Successfully built ffmpy flask-cachebuster\n",
      "Installing collected packages: pynacl, monotonic, cryptography, bcrypt, backoff, pydub, pycryptodome, paramiko, markdown2, Flask-Login, Flask-Cors, flask-cachebuster, ffmpy, analytics-python, gradio\n",
      "Successfully installed Flask-Cors-3.0.10 Flask-Login-0.5.0 analytics-python-1.4.0 backoff-1.10.0 bcrypt-3.2.0 cryptography-36.0.1 ffmpy-0.3.0 flask-cachebuster-1.0.0 gradio-2.7.0 markdown2-2.4.2 monotonic-1.6 paramiko-2.9.1 pycryptodome-3.12.0 pydub-0.25.1 pynacl-1.4.0\n"
     ]
    }
   ],
   "source": [
    "!pip install gradio"
   ]
  },
  {
   "cell_type": "code",
   "execution_count": 16,
   "id": "57fb836c",
   "metadata": {},
   "outputs": [],
   "source": [
    "import gradio as gr"
   ]
  },
  {
   "cell_type": "code",
   "execution_count": 17,
   "id": "93dfc1f6",
   "metadata": {},
   "outputs": [],
   "source": [
    "target_names = ['a', 'b', 'c','d','e','f','g','h','i','j','k','l','m','n','o','p','q','r','s','t','u','v','w','x','y','z']\n",
    "def predict_image(img):\n",
    "    input=img.reshape(-1,28,28,3)\n",
    "    prediction=model1.predict(input)[0]\n",
    "    return {target_names[i]: float(prediction[i]) for i in range(26)}"
   ]
  },
  {
   "cell_type": "code",
   "execution_count": 18,
   "id": "1be6f8a9",
   "metadata": {},
   "outputs": [
    {
     "name": "stdout",
     "output_type": "stream",
     "text": [
      "Running on local URL:  http://127.0.0.1:7861/\n",
      "\n",
      "To create a public link, set `share=True` in `launch()`.\n"
     ]
    },
    {
     "data": {
      "text/html": [
       "\n",
       "        <iframe\n",
       "            width=\"900\"\n",
       "            height=\"500\"\n",
       "            src=\"http://127.0.0.1:7861/\"\n",
       "            frameborder=\"0\"\n",
       "            allowfullscreen\n",
       "            \n",
       "        ></iframe>\n",
       "        "
      ],
      "text/plain": [
       "<IPython.lib.display.IFrame at 0x1efbb92b880>"
      ]
     },
     "metadata": {},
     "output_type": "display_data"
    },
    {
     "ename": "KeyboardInterrupt",
     "evalue": "",
     "output_type": "error",
     "traceback": [
      "\u001b[1;31m---------------------------------------------------------------------------\u001b[0m",
      "\u001b[1;31mKeyboardInterrupt\u001b[0m                         Traceback (most recent call last)",
      "\u001b[1;32mC:\\Users\\KEVINM~1\\AppData\\Local\\Temp/ipykernel_15324/3408759397.py\u001b[0m in \u001b[0;36m<module>\u001b[1;34m\u001b[0m\n\u001b[0;32m      2\u001b[0m \u001b[0mlabel\u001b[0m \u001b[1;33m=\u001b[0m \u001b[0mgr\u001b[0m\u001b[1;33m.\u001b[0m\u001b[0moutputs\u001b[0m\u001b[1;33m.\u001b[0m\u001b[0mLabel\u001b[0m\u001b[1;33m(\u001b[0m\u001b[0mnum_top_classes\u001b[0m\u001b[1;33m=\u001b[0m\u001b[1;36m26\u001b[0m\u001b[1;33m)\u001b[0m\u001b[1;33m\u001b[0m\u001b[1;33m\u001b[0m\u001b[0m\n\u001b[0;32m      3\u001b[0m \u001b[1;33m\u001b[0m\u001b[0m\n\u001b[1;32m----> 4\u001b[1;33m \u001b[0mgr\u001b[0m\u001b[1;33m.\u001b[0m\u001b[0mInterface\u001b[0m\u001b[1;33m(\u001b[0m\u001b[0mfn\u001b[0m\u001b[1;33m=\u001b[0m\u001b[0mpredict_image\u001b[0m\u001b[1;33m,\u001b[0m \u001b[0minputs\u001b[0m\u001b[1;33m=\u001b[0m\u001b[0mimage\u001b[0m\u001b[1;33m,\u001b[0m \u001b[0moutputs\u001b[0m\u001b[1;33m=\u001b[0m\u001b[0mlabel\u001b[0m\u001b[1;33m,\u001b[0m\u001b[0minterpretation\u001b[0m\u001b[1;33m=\u001b[0m\u001b[1;34m'default'\u001b[0m\u001b[1;33m)\u001b[0m\u001b[1;33m.\u001b[0m\u001b[0mlaunch\u001b[0m\u001b[1;33m(\u001b[0m\u001b[0mdebug\u001b[0m\u001b[1;33m=\u001b[0m\u001b[1;34m'True'\u001b[0m\u001b[1;33m)\u001b[0m\u001b[1;33m\u001b[0m\u001b[1;33m\u001b[0m\u001b[0m\n\u001b[0m",
      "\u001b[1;32mc:\\users\\kevin maulana\\appdata\\local\\programs\\python\\python38\\lib\\site-packages\\gradio\\interface.py\u001b[0m in \u001b[0;36mlaunch\u001b[1;34m(self, inline, inbrowser, share, debug, auth, auth_message, private_endpoint, prevent_thread_lock, show_error, server_name, server_port, show_tips, enable_queue, height, width, encrypt, cache_examples)\u001b[0m\n\u001b[0;32m    623\u001b[0m             \u001b[1;32mwhile\u001b[0m \u001b[1;32mTrue\u001b[0m\u001b[1;33m:\u001b[0m\u001b[1;33m\u001b[0m\u001b[1;33m\u001b[0m\u001b[0m\n\u001b[0;32m    624\u001b[0m                 \u001b[0msys\u001b[0m\u001b[1;33m.\u001b[0m\u001b[0mstdout\u001b[0m\u001b[1;33m.\u001b[0m\u001b[0mflush\u001b[0m\u001b[1;33m(\u001b[0m\u001b[1;33m)\u001b[0m\u001b[1;33m\u001b[0m\u001b[1;33m\u001b[0m\u001b[0m\n\u001b[1;32m--> 625\u001b[1;33m                 \u001b[0mtime\u001b[0m\u001b[1;33m.\u001b[0m\u001b[0msleep\u001b[0m\u001b[1;33m(\u001b[0m\u001b[1;36m0.1\u001b[0m\u001b[1;33m)\u001b[0m\u001b[1;33m\u001b[0m\u001b[1;33m\u001b[0m\u001b[0m\n\u001b[0m\u001b[0;32m    626\u001b[0m         is_in_interactive_mode = bool(\n\u001b[0;32m    627\u001b[0m             getattr(sys, 'ps1', sys.flags.interactive))\n",
      "\u001b[1;31mKeyboardInterrupt\u001b[0m: "
     ]
    }
   ],
   "source": [
    "image = gr.inputs.Image(shape=(28,28))\n",
    "label = gr.outputs.Label(num_top_classes=26)\n",
    "\n",
    "gr.Interface(fn=predict_image, inputs=image, outputs=label,interpretation='default').launch(debug='True')"
   ]
  },
  {
   "cell_type": "code",
   "execution_count": null,
   "id": "026abc42",
   "metadata": {},
   "outputs": [],
   "source": []
  },
  {
   "cell_type": "code",
   "execution_count": 20,
   "id": "a417011e",
   "metadata": {},
   "outputs": [],
   "source": [
    "import tensorflowjs as tfjs\n",
    "tfjs.converters.save_keras_model(model,'models')"
   ]
  },
  {
   "cell_type": "code",
   "execution_count": 21,
   "id": "a08ad4e2",
   "metadata": {},
   "outputs": [],
   "source": [
    "model.save(\"model.hdf5\")"
   ]
  },
  {
   "cell_type": "code",
   "execution_count": 14,
   "id": "69305987",
   "metadata": {},
   "outputs": [
    {
     "name": "stdout",
     "output_type": "stream",
     "text": [
      "Writing app.py\n"
     ]
    }
   ],
   "source": [
    "%%writefile app.py\n",
    "import streamlit as st\n",
    "import tensorflow as tf\n",
    "import streamlit as st\n",
    "\n",
    "\n",
    "@st.cache(allow_output_mutation=True)\n",
    "def load_model():\n",
    "  model=tf.keras.models.load_model('model.hdf5')\n",
    "  return model\n",
    "with st.spinner('Model is being loaded..'):\n",
    "  model=load_model()\n",
    "\n",
    "st.write(\"\"\"\n",
    "         # Flower Classification\n",
    "         \"\"\"\n",
    "         )\n",
    "\n",
    "file = st.file_uploader(\"Please upload an brain scan file\", type=[\"jpg\", \"png\"])\n",
    "import cv2\n",
    "from PIL import Image, ImageOps\n",
    "import numpy as np\n",
    "st.set_option('deprecation.showfileUploaderEncoding', False)\n",
    "def import_and_predict(image_data, model):\n",
    "    \n",
    "        size = (28,28)    \n",
    "        image = ImageOps.fit(image_data, size, Image.ANTIALIAS)\n",
    "        image = np.asarray(image)\n",
    "        img = cv2.cvtColor(image, cv2.COLOR_BGR2RGB)\n",
    "        #img_resize = (cv2.resize(img, dsize=(75, 75),    interpolation=cv2.INTER_CUBIC))/255.\n",
    "        \n",
    "        img_reshape = img[np.newaxis,...]\n",
    "    \n",
    "        prediction = model.predict(img_reshape)\n",
    "        \n",
    "        return prediction\n",
    "if file is None:\n",
    "    st.text(\"Please upload an image file\")\n",
    "else:\n",
    "    image = Image.open(file)\n",
    "    st.image(image, use_column_width=True)\n",
    "    predictions = import_and_predict(image, model)\n",
    "    score = tf.nn.softmax(predictions[0])\n",
    "    st.write(prediction)\n",
    "    st.write(score)\n",
    "    print(\n",
    "    \"This image most likely belongs to {} with a {:.2f} percent confidence.\"\n",
    "    .format(class_names[np.argmax(score)], 100 * np.max(score))\n",
    ")"
   ]
  },
  {
   "cell_type": "code",
   "execution_count": 26,
   "id": "5dfd3224",
   "metadata": {},
   "outputs": [
    {
     "name": "stdout",
     "output_type": "stream",
     "text": [
      "Downloading ngrok ...\n"
     ]
    },
    {
     "name": "stderr",
     "output_type": "stream",
     "text": [
      "Traceback (most recent call last):\n",
      "  File \"c:\\users\\kevin maulana\\appdata\\local\\programs\\python\\python38\\lib\\urllib\\request.py\", line 1317, in do_open\n",
      "    h.request(req.get_method(), req.selector, req.data, headers,\n",
      "  File \"c:\\users\\kevin maulana\\appdata\\local\\programs\\python\\python38\\lib\\http\\client.py\", line 1230, in request\n",
      "    self._send_request(method, url, body, headers, encode_chunked)\n",
      "  File \"c:\\users\\kevin maulana\\appdata\\local\\programs\\python\\python38\\lib\\http\\client.py\", line 1276, in _send_request\n",
      "    self.endheaders(body, encode_chunked=encode_chunked)\n",
      "  File \"c:\\users\\kevin maulana\\appdata\\local\\programs\\python\\python38\\lib\\http\\client.py\", line 1225, in endheaders\n",
      "    self._send_output(message_body, encode_chunked=encode_chunked)\n",
      "  File \"c:\\users\\kevin maulana\\appdata\\local\\programs\\python\\python38\\lib\\http\\client.py\", line 1004, in _send_output\n",
      "    self.send(msg)\n",
      "  File \"c:\\users\\kevin maulana\\appdata\\local\\programs\\python\\python38\\lib\\http\\client.py\", line 944, in send\n",
      "    self.connect()\n",
      "  File \"c:\\users\\kevin maulana\\appdata\\local\\programs\\python\\python38\\lib\\http\\client.py\", line 1399, in connect\n",
      "    self.sock = self._context.wrap_socket(self.sock,\n",
      "  File \"c:\\users\\kevin maulana\\appdata\\local\\programs\\python\\python38\\lib\\ssl.py\", line 500, in wrap_socket\n",
      "    return self.sslsocket_class._create(\n",
      "  File \"c:\\users\\kevin maulana\\appdata\\local\\programs\\python\\python38\\lib\\ssl.py\", line 1040, in _create\n",
      "    self.do_handshake()\n",
      "  File \"c:\\users\\kevin maulana\\appdata\\local\\programs\\python\\python38\\lib\\ssl.py\", line 1309, in do_handshake\n",
      "    self._sslobj.do_handshake()\n",
      "ssl.SSLCertVerificationError: [SSL: CERTIFICATE_VERIFY_FAILED] certificate verify failed: certificate has expired (_ssl.c:1108)\n",
      "\n",
      "During handling of the above exception, another exception occurred:\n",
      "\n",
      "Traceback (most recent call last):\n",
      "  File \"c:\\users\\kevin maulana\\appdata\\local\\programs\\python\\python38\\lib\\site-packages\\pyngrok\\installer.py\", line 94, in install_ngrok\n",
      "    download_path = _download_file(url, **kwargs)\n",
      "  File \"c:\\users\\kevin maulana\\appdata\\local\\programs\\python\\python38\\lib\\site-packages\\pyngrok\\installer.py\", line 215, in _download_file\n",
      "    response = urlopen(url, **kwargs)\n",
      "  File \"c:\\users\\kevin maulana\\appdata\\local\\programs\\python\\python38\\lib\\urllib\\request.py\", line 222, in urlopen\n",
      "    return opener.open(url, data, timeout)\n",
      "  File \"c:\\users\\kevin maulana\\appdata\\local\\programs\\python\\python38\\lib\\urllib\\request.py\", line 525, in open\n",
      "    response = self._open(req, data)\n",
      "  File \"c:\\users\\kevin maulana\\appdata\\local\\programs\\python\\python38\\lib\\urllib\\request.py\", line 542, in _open\n",
      "    result = self._call_chain(self.handle_open, protocol, protocol +\n",
      "  File \"c:\\users\\kevin maulana\\appdata\\local\\programs\\python\\python38\\lib\\urllib\\request.py\", line 502, in _call_chain\n",
      "    result = func(*args)\n",
      "  File \"c:\\users\\kevin maulana\\appdata\\local\\programs\\python\\python38\\lib\\urllib\\request.py\", line 1360, in https_open\n",
      "    return self.do_open(http.client.HTTPSConnection, req,\n",
      "  File \"c:\\users\\kevin maulana\\appdata\\local\\programs\\python\\python38\\lib\\urllib\\request.py\", line 1320, in do_open\n",
      "    raise URLError(err)\n",
      "urllib.error.URLError: <urlopen error [SSL: CERTIFICATE_VERIFY_FAILED] certificate verify failed: certificate has expired (_ssl.c:1108)>\n",
      "\n",
      "During handling of the above exception, another exception occurred:\n",
      "\n",
      "Traceback (most recent call last):\n",
      "  File \"c:\\users\\kevin maulana\\appdata\\local\\programs\\python\\python38\\lib\\runpy.py\", line 192, in _run_module_as_main\n",
      "    return _run_code(code, main_globals, None,\n",
      "  File \"c:\\users\\kevin maulana\\appdata\\local\\programs\\python\\python38\\lib\\runpy.py\", line 85, in _run_code\n",
      "    exec(code, run_globals)\n",
      "  File \"C:\\Users\\Kevin Maulana\\AppData\\Local\\Programs\\Python\\Python38\\Scripts\\ngrok.exe\\__main__.py\", line 7, in <module>\n",
      "  File \"c:\\users\\kevin maulana\\appdata\\local\\programs\\python\\python38\\lib\\site-packages\\pyngrok\\ngrok.py\", line 501, in main\n",
      "    run(sys.argv[1:])\n",
      "  File \"c:\\users\\kevin maulana\\appdata\\local\\programs\\python\\python38\\lib\\site-packages\\pyngrok\\ngrok.py\", line 487, in run\n",
      "    install_ngrok(pyngrok_config)\n",
      "  File \"c:\\users\\kevin maulana\\appdata\\local\\programs\\python\\python38\\lib\\site-packages\\pyngrok\\ngrok.py\", line 98, in install_ngrok\n",
      "    installer.install_ngrok(pyngrok_config.ngrok_path)\n",
      "  File \"c:\\users\\kevin maulana\\appdata\\local\\programs\\python\\python38\\lib\\site-packages\\pyngrok\\installer.py\", line 98, in install_ngrok\n",
      "    raise PyngrokNgrokInstallError(\"An error occurred while downloading ngrok from {}: {}\".format(url, e))\n",
      "pyngrok.exception.PyngrokNgrokInstallError: An error occurred while downloading ngrok from https://bin.equinox.io/c/4VmDzA7iaHb/ngrok-stable-windows-amd64.zip: <urlopen error [SSL: CERTIFICATE_VERIFY_FAILED] certificate verify failed: certificate has expired (_ssl.c:1108)>\n"
     ]
    }
   ],
   "source": [
    "!ngrok authtoken 23HYzMxGNXbVnOyk7rWBGWT5YIR_22FEhT6wTvnGZjH26UZ6"
   ]
  },
  {
   "cell_type": "code",
   "execution_count": 28,
   "id": "8a4ffe49",
   "metadata": {},
   "outputs": [
    {
     "ename": "OSError",
     "evalue": "Background processes not supported.",
     "output_type": "error",
     "traceback": [
      "\u001b[1;31m---------------------------------------------------------------------------\u001b[0m",
      "\u001b[1;31mOSError\u001b[0m                                   Traceback (most recent call last)",
      "\u001b[1;32mC:\\Users\\KEVINM~1\\AppData\\Local\\Temp/ipykernel_16528/4107370740.py\u001b[0m in \u001b[0;36m<module>\u001b[1;34m\u001b[0m\n\u001b[1;32m----> 1\u001b[1;33m \u001b[0mget_ipython\u001b[0m\u001b[1;33m(\u001b[0m\u001b[1;33m)\u001b[0m\u001b[1;33m.\u001b[0m\u001b[0msystem\u001b[0m\u001b[1;33m(\u001b[0m\u001b[1;34m'nohup streamlit run app.py &'\u001b[0m\u001b[1;33m)\u001b[0m\u001b[1;33m\u001b[0m\u001b[1;33m\u001b[0m\u001b[0m\n\u001b[0m",
      "\u001b[1;32mc:\\users\\kevin maulana\\appdata\\local\\programs\\python\\python38\\lib\\site-packages\\ipykernel\\zmqshell.py\u001b[0m in \u001b[0;36msystem_piped\u001b[1;34m(self, cmd)\u001b[0m\n\u001b[0;32m    620\u001b[0m             \u001b[1;31m# os.system() or use ip.system=ip.system_raw\u001b[0m\u001b[1;33m\u001b[0m\u001b[1;33m\u001b[0m\u001b[1;33m\u001b[0m\u001b[0m\n\u001b[0;32m    621\u001b[0m             \u001b[1;31m# if they really want a background process.\u001b[0m\u001b[1;33m\u001b[0m\u001b[1;33m\u001b[0m\u001b[1;33m\u001b[0m\u001b[0m\n\u001b[1;32m--> 622\u001b[1;33m             \u001b[1;32mraise\u001b[0m \u001b[0mOSError\u001b[0m\u001b[1;33m(\u001b[0m\u001b[1;34m\"Background processes not supported.\"\u001b[0m\u001b[1;33m)\u001b[0m\u001b[1;33m\u001b[0m\u001b[1;33m\u001b[0m\u001b[0m\n\u001b[0m\u001b[0;32m    623\u001b[0m \u001b[1;33m\u001b[0m\u001b[0m\n\u001b[0;32m    624\u001b[0m         \u001b[1;31m# we explicitly do NOT return the subprocess status code, because\u001b[0m\u001b[1;33m\u001b[0m\u001b[1;33m\u001b[0m\u001b[1;33m\u001b[0m\u001b[0m\n",
      "\u001b[1;31mOSError\u001b[0m: Background processes not supported."
     ]
    }
   ],
   "source": [
    "!nohup streamlit run app.py &"
   ]
  },
  {
   "cell_type": "code",
   "execution_count": null,
   "id": "bcb4a51c",
   "metadata": {},
   "outputs": [],
   "source": []
  }
 ],
 "metadata": {
  "kernelspec": {
   "display_name": "Python 3 (ipykernel)",
   "language": "python",
   "name": "python3"
  },
  "language_info": {
   "codemirror_mode": {
    "name": "ipython",
    "version": 3
   },
   "file_extension": ".py",
   "mimetype": "text/x-python",
   "name": "python",
   "nbconvert_exporter": "python",
   "pygments_lexer": "ipython3",
   "version": "3.8.0"
  }
 },
 "nbformat": 4,
 "nbformat_minor": 5
}
